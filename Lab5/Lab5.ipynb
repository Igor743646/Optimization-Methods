{
 "cells": [
  {
   "cell_type": "markdown",
   "id": "fb1e65a9",
   "metadata": {},
   "source": [
    "# Лабораторная работа №5\n",
    "## $1 | \\text{s-batch} | \\sum{w_ic_i}$"
   ]
  },
  {
   "cell_type": "markdown",
   "id": "b42fb7d3",
   "metadata": {},
   "source": [
    "**Задача**: собрать работы в группы для обработки на одной машине так, чтобы\n",
    "минимизировать взвешенную сумму окончания всех работ. В каждой группе\n",
    "время окончания работ равно времени окончания последней работы в группе. \n",
    "Длительность выполнения всей группы работ равна сумме длительностей\n",
    "работ. При переходе от одной группы к другой машина требует переналадки\n",
    "$\\tau$ (простой.) "
   ]
  },
  {
   "cell_type": "markdown",
   "id": "1fad7728",
   "metadata": {},
   "source": [
    "Реализовать алгоритм решения с помощью библиотеки Pyomo и собственный жадный алгоритм для решения данной задачи, создать универсальный формат задания задачи."
   ]
  },
  {
   "cell_type": "code",
   "execution_count": 45,
   "id": "368f95d7",
   "metadata": {},
   "outputs": [],
   "source": [
    "import matplotlib.pyplot as plt\n",
    "from matplotlib import pyplot as plt\n",
    "import networkx as nx\n",
    "from functools import reduce\n",
    "import pandas as pd\n",
    "import shutil\n",
    "import sys\n",
    "import json\n",
    "import os.path\n",
    "from pyomo.environ import *\n",
    "from pyomo.gdp import *\n",
    "from pyomo.contrib.latex_printer import latex_printer\n",
    "import script"
   ]
  },
  {
   "cell_type": "code",
   "execution_count": 46,
   "id": "655c3a68",
   "metadata": {},
   "outputs": [],
   "source": [
    "# Запись задачи в JSON формат\n",
    "def WriteJson(dictionary: dict, name = \"task.json\"):\n",
    "    with open(name, 'w') as f:\n",
    "        json.dump(dictionary, f)\n",
    "\n",
    "# Чтение задачи из JSON формата\n",
    "def ReadJson(name = \"task.json\") -> dict:\n",
    "    with open(name, 'r') as f:\n",
    "        m = json.loads(f.read())\n",
    "        return m"
   ]
  },
  {
   "cell_type": "code",
   "execution_count": 47,
   "id": "f61b3d32",
   "metadata": {},
   "outputs": [],
   "source": [
    "# Отрисовка диаграммы Ганта\n",
    "def Gantt(JOBS, SCHEDULE={}, ax1=None, ax2=None):\n",
    "    bw = 0.3\n",
    "\n",
    "    idx = 0\n",
    "    for j in sorted(JOBS.keys()):\n",
    "        x = JOBS[j]['release']\n",
    "        y = JOBS[j]['due']\n",
    "        ax1.fill_between([x,y],[idx-bw,idx-bw],[idx+bw,idx+bw], color='cyan', alpha=0.6)\n",
    "        if j in SCHEDULE.keys():\n",
    "            x = SCHEDULE[j]['start']\n",
    "            y = SCHEDULE[j]['finish']\n",
    "            ax1.fill_between([x,y],[idx-bw,idx-bw],[idx+bw,idx+bw], color='red', alpha=0.5)\n",
    "            ax1.plot([x,y,y,x,x], [idx-bw,idx-bw,idx+bw,idx+bw,idx-bw],color='k')\n",
    "            ax1.text((SCHEDULE[j]['start'] + SCHEDULE[j]['finish'])/2.0,idx,\n",
    "                'Job ' + j, color='white', weight='bold',\n",
    "                horizontalalignment='center', verticalalignment='center')\n",
    "        idx += 1\n",
    "\n",
    "    ax1.set_ylim(-0.5, idx-0.5)\n",
    "    ax1.set_title('Job Schedule')\n",
    "    ax1.set_xlabel('Time')\n",
    "    ax1.set_ylabel('Jobs')\n",
    "    ax1.set_yticks(range(len(JOBS)), JOBS.keys())\n",
    "    ax1.grid()\n",
    "    xlim = ax1.get_xlim()\n",
    "\n",
    "    if SCHEDULE:\n",
    "        for j in SCHEDULE.keys():\n",
    "            if 'machine' not in SCHEDULE[j].keys():\n",
    "                SCHEDULE[j]['machine'] = 1\n",
    "        MACHINES = sorted(set([SCHEDULE[j]['machine'] for j in SCHEDULE.keys()]))\n",
    "\n",
    "        for j in sorted(SCHEDULE.keys()):\n",
    "            idx = MACHINES.index(SCHEDULE[j]['machine'])\n",
    "            x = SCHEDULE[j]['start']\n",
    "            y = SCHEDULE[j]['finish']\n",
    "            ax2.fill_between([x,y],[idx-bw,idx-bw],[idx+bw,idx+bw], color='red', alpha=0.5)\n",
    "            ax2.plot([x,y,y,x,x], [idx-bw,idx-bw,idx+bw,idx+bw,idx-bw],color='k')\n",
    "            ax2.text((SCHEDULE[j]['start'] + SCHEDULE[j]['finish'])/2.0,idx,\n",
    "                'Job ' + j, color='white', weight='bold',\n",
    "                horizontalalignment='center', verticalalignment='center')\n",
    "        ax2.set_xlim(xlim)\n",
    "        ax2.set_ylim(-0.5, len(MACHINES)-0.5)\n",
    "        ax2.set_title('Machine Schedule')\n",
    "        ax2.set_yticks(range(len(MACHINES)), MACHINES)\n",
    "        ax2.set_ylabel('Machines')\n",
    "        ax2.grid()\n",
    "\n",
    "# Подсчет метрик для решенной задачи\n",
    "def Kpi(JOBS, SCHEDULE):\n",
    "    KPI = {}\n",
    "    KPI['Makespan'] = max(SCHEDULE[job]['finish'] for job in SCHEDULE)\n",
    "    KPI['Max Pastdue'] = max(max(0, SCHEDULE[job]['finish'] - JOBS[job]['due']) for job in SCHEDULE)\n",
    "    KPI['AE due'] = max(abs(SCHEDULE[job]['finish'] - JOBS[job]['due']) for job in SCHEDULE)\n",
    "    KPI['Sum of Pastdue'] = sum(max(0, SCHEDULE[job]['finish'] - JOBS[job]['due']) for job in SCHEDULE)\n",
    "    KPI['Number Pastdue'] = sum(SCHEDULE[job]['finish'] > JOBS[job]['due'] for job in SCHEDULE)\n",
    "    KPI['Number on Time'] = sum(SCHEDULE[job]['finish'] <= JOBS[job]['due'] for job in SCHEDULE)\n",
    "    KPI['Fraction on Time'] = KPI['Number on Time']/len(SCHEDULE)\n",
    "    return KPI"
   ]
  },
  {
   "cell_type": "markdown",
   "id": "4d0c9d15",
   "metadata": {},
   "source": [
    "## Реализация в Pyomo"
   ]
  },
  {
   "cell_type": "code",
   "execution_count": 48,
   "id": "9bf2b79c",
   "metadata": {
    "scrolled": false
   },
   "outputs": [],
   "source": [
    "def ObjectiveF(JOBS, MACHINES, z):\n",
    "    TMAX = [[0 for _ in range(len(MACHINES))] for _ in range(len(JOBS))]\n",
    "    ZMAX = [[0 for _ in range(len(MACHINES))] for _ in range(len(JOBS))]\n",
    "    MAX = [0] * len(MACHINES)\n",
    "    MAX_adapt = [0] * len(MACHINES)\n",
    "    string = list(JOBS.keys())\n",
    "\n",
    "    for j in range(len(MACHINES)):\n",
    "        for i in range(len(JOBS)):\n",
    "            TMAX[i][j] = JOBS[string[i]]['duration'] * z[string[i], MACHINES[j]]\n",
    "            ZMAX[i][j] = z[string[i], MACHINES[j]] * JOBS[string[i]]['weight']\n",
    "            MAX[j] += TMAX[i][j]\n",
    "\n",
    "    MAX_adapt[0] = MAX[0] + 1\n",
    "    MAX_adapt[1] = MAX[0] + MAX[1] + 2\n",
    "    MAX_adapt[2] = MAX[0] + MAX[1] + MAX[2] + 3\n",
    "    MAX_adapt[3] = MAX[0] + MAX[1] + MAX[2] + MAX[3] + 4\n",
    "    MAX_adapt[4] = MAX[0] + MAX[1] + MAX[2] + MAX[3] + MAX[4] + 5\n",
    "    MAX_adapt[5] = MAX[0] + MAX[1] + MAX[2] + MAX[3] + MAX[4] + MAX[5] + 6\n",
    "\n",
    "    objective = 0\n",
    "    for j in range(len(MACHINES)):\n",
    "        objective += MAX_adapt[j] * sum([ZMAX[i][j] for i in range(len(JOBS))])\n",
    "\n",
    "    return objective\n",
    "\n",
    "#Создание метода решения\n",
    "def ScheduleMachines(JOBS, MACHINES):\n",
    "\n",
    "    m = ConcreteModel()\n",
    "\n",
    "    m.J = Set(initialize=JOBS.keys())\n",
    "    m.M = Set(initialize=MACHINES)\n",
    "    m.PAIRS = Set(initialize = m.J * m.J, dimen=2, filter=lambda m, j, k : j < k)\n",
    "    \n",
    "    BigM = (max([JOBS[j]['release'] for j in m.J]) + sum([JOBS[j]['duration'] for j in m.J]))\n",
    "    \n",
    "    m.start      = Var(m.J, bounds=(0, 1000))\n",
    "    m.makespan   = Var(domain=NonNegativeReals)\n",
    "    m.pastdue    = Var(m.J, domain=NonNegativeReals)\n",
    "    m.early      = Var(m.J, domain=NonNegativeReals)\n",
    "\n",
    "    m.ispastdue  = Var(m.J, domain=Binary)\n",
    "    m.maxpastdue = Var(domain=NonNegativeReals)\n",
    "\n",
    "    m.z = Var(m.J, m.M, domain=Binary)\n",
    "    m.y = Var(m.PAIRS, domain=Binary)\n",
    "\n",
    "    m.OBJ = Objective(expr = ObjectiveF(JOBS, MACHINES, m.z), sense = minimize)\n",
    "\n",
    "    m.c1 = Constraint(m.J, rule=lambda m, j:\n",
    "            m.start[j] >= JOBS[j]['release'])\n",
    "    m.c2 = Constraint(m.J, rule=lambda m, j:\n",
    "            m.start[j] + JOBS[j]['duration'] + m.early[j] == JOBS[j]['due'] + m.pastdue[j])\n",
    "    m.c3 = Constraint(m.J, rule=lambda m, j:\n",
    "            sum(m.z[j,mach] for mach in m.M) == 1)\n",
    "    m.c4 = Constraint(m.J, rule=lambda m, j:\n",
    "            m.pastdue[j] <= BigM*m.ispastdue[j])\n",
    "    m.c5 = Constraint(m.J, rule=lambda m, j:\n",
    "            m.pastdue[j] <= m.maxpastdue)\n",
    "    m.c6 = Constraint(m.J, rule=lambda m, j:\n",
    "            m.start[j] + JOBS[j]['duration'] <= m.makespan)\n",
    "    m.d1 = Constraint(m.M, m.PAIRS, rule = lambda m, mach, j, k:\n",
    "            m.start[j] + JOBS[j]['duration'] <= m.start[k] + BigM*(m.y[j,k] + (1-m.z[j,mach]) + (1-m.z[k,mach])))\n",
    "    m.d2 = Constraint(m.M, m.PAIRS, rule = lambda m, mach, j, k:\n",
    "            m.start[k] + JOBS[k]['duration'] <= m.start[j] + BigM*((1-m.y[j,k]) + (1-m.z[j,mach]) + (1-m.z[k,mach])))\n",
    "\n",
    "    SolverFactory(\"bonmin\").solve(m)\n",
    "\n",
    "    SCHEDULE = {}\n",
    "    for j in m.J:\n",
    "        SCHEDULE[j] = {\n",
    "            'start': m.start[j](),\n",
    "            'finish': m.start[j]() + JOBS[j]['duration'],\n",
    "            'machine': [mach for mach in MACHINES if m.z[j,mach]()][0]\n",
    "        }\n",
    "\n",
    "    return SCHEDULE, m"
   ]
  },
  {
   "cell_type": "markdown",
   "id": "34a79e4a",
   "metadata": {},
   "source": [
    "## Жадный алгоритм"
   ]
  },
  {
   "cell_type": "code",
   "execution_count": null,
   "id": "47ed42ed",
   "metadata": {},
   "outputs": [],
   "source": []
  },
  {
   "cell_type": "code",
   "execution_count": 49,
   "id": "fbb392e5",
   "metadata": {},
   "outputs": [],
   "source": [
    "def Test(name, verbose = False):\n",
    "    DATA = ReadJson(name=name)\n",
    "\n",
    "    #Задание словаря работ\n",
    "    JOBS = DATA[\"JOBS\"]\n",
    "    \n",
    "    MACHINES = [f\"G{i}\" for i in range(len(JOBS))]\n",
    "\n",
    "    SCHEDULE1, MODEL = ScheduleMachines(JOBS.copy(), MACHINES)\n",
    "#     SCHEDULE2 = Solve(JOBS.copy(), MACHINES)\n",
    "    \n",
    "#     if not verbose:\n",
    "#         fig, ax = plt.subplots(3, 2, figsize=(15,18))\n",
    "#         fig.suptitle(f\"{name}\")\n",
    "#         ax[0][0].get_xaxis().set_visible(False)\n",
    "#         ax[0][0].get_yaxis().set_visible(False)\n",
    "#         ax[0][0].set_axis_off()\n",
    "#         ax[0][0].text(0.5, 0.5, f\"Best: {Kpi(JOBS, SCHEDULE1)['AE due']}\\n\"\n",
    "#                      f\"Greedy: {Kpi(JOBS, SCHEDULE2)['AE due']}\")\n",
    "\n",
    "#         Gantt(JOBS, SCHEDULE1, ax[1][0], ax[2][0])\n",
    "#         Gantt(JOBS, SCHEDULE2, ax[1][1], ax[2][1])\n",
    "\n",
    "    return Kpi(JOBS, SCHEDULE1)['AE due'], Kpi(JOBS, SCHEDULE2)['AE due']"
   ]
  },
  {
   "cell_type": "code",
   "execution_count": 50,
   "id": "640f9c49",
   "metadata": {
    "scrolled": false
   },
   "outputs": [
    {
     "name": "stdout",
     "output_type": "stream",
     "text": [
      "WARNING: Failed to create solver with name 'bonmin': Failed to set executable\n",
      "for solver asl. File with name=bonmin either does not exist or it is not\n",
      "executable. To skip this validation, call set_executable with validate=False.\n",
      "Traceback (most recent call last):\n",
      "  File \"C:\\Users\\Igor\\AppData\\Local\\Programs\\Python\\Python310\\lib\\site-packages\\pyomo\\opt\\base\\solvers.py\", line 165, in __call__\n",
      "    opt = self._cls[_implicit_solvers[mode]](**kwds)\n",
      "  File \"C:\\Users\\Igor\\AppData\\Local\\Programs\\Python\\Python310\\lib\\site-packages\\pyomo\\solvers\\plugins\\solvers\\ASL.py\", line 45, in __init__\n",
      "    SystemCallSolver.__init__(self, **kwds)\n",
      "  File \"C:\\Users\\Igor\\AppData\\Local\\Programs\\Python\\Python310\\lib\\site-packages\\pyomo\\opt\\solver\\shellcmd.py\", line 67, in __init__\n",
      "    self.set_executable(name=executable, validate=validate)\n",
      "  File \"C:\\Users\\Igor\\AppData\\Local\\Programs\\Python\\Python310\\lib\\site-packages\\pyomo\\opt\\solver\\shellcmd.py\", line 116, in set_executable\n",
      "    raise ValueError(\n",
      "ValueError: Failed to set executable for solver asl. File with name=bonmin either does not exist or it is not executable. To skip this validation, call set_executable with validate=False.\n"
     ]
    },
    {
     "ename": "RuntimeError",
     "evalue": "Attempting to use an unavailable solver.\n\nThe SolverFactory was unable to create the solver \"bonmin\"\nand returned an UnknownSolver object.  This error is raised at the point\nwhere the UnknownSolver object was used as if it were valid (by calling\nmethod \"solve\").\n\nThe original solver was created with the following parameters:\n\texecutable: bonmin\n\ttype: bonmin\n\t_args: ()\n\toptions: {}",
     "output_type": "error",
     "traceback": [
      "\u001b[1;31m---------------------------------------------------------------------------\u001b[0m",
      "\u001b[1;31mRuntimeError\u001b[0m                              Traceback (most recent call last)",
      "\u001b[1;32m~\\AppData\\Local\\Temp/ipykernel_9284/2249647398.py\u001b[0m in \u001b[0;36m<module>\u001b[1;34m\u001b[0m\n\u001b[0;32m      1\u001b[0m \u001b[1;31m# WriteJson(script.create_task(6, 3, 8, 0, 7))\u001b[0m\u001b[1;33m\u001b[0m\u001b[1;33m\u001b[0m\u001b[0m\n\u001b[1;32m----> 2\u001b[1;33m \u001b[0mTest\u001b[0m\u001b[1;33m(\u001b[0m\u001b[1;34m\"task1.json\"\u001b[0m\u001b[1;33m)\u001b[0m\u001b[1;33m\u001b[0m\u001b[1;33m\u001b[0m\u001b[0m\n\u001b[0m",
      "\u001b[1;32m~\\AppData\\Local\\Temp/ipykernel_9284/2159961778.py\u001b[0m in \u001b[0;36mTest\u001b[1;34m(name, verbose)\u001b[0m\n\u001b[0;32m      7\u001b[0m     \u001b[0mMACHINES\u001b[0m \u001b[1;33m=\u001b[0m \u001b[1;33m[\u001b[0m\u001b[1;34mf\"G{i}\"\u001b[0m \u001b[1;32mfor\u001b[0m \u001b[0mi\u001b[0m \u001b[1;32min\u001b[0m \u001b[0mrange\u001b[0m\u001b[1;33m(\u001b[0m\u001b[0mlen\u001b[0m\u001b[1;33m(\u001b[0m\u001b[0mJOBS\u001b[0m\u001b[1;33m)\u001b[0m\u001b[1;33m)\u001b[0m\u001b[1;33m]\u001b[0m\u001b[1;33m\u001b[0m\u001b[1;33m\u001b[0m\u001b[0m\n\u001b[0;32m      8\u001b[0m \u001b[1;33m\u001b[0m\u001b[0m\n\u001b[1;32m----> 9\u001b[1;33m     \u001b[0mSCHEDULE1\u001b[0m\u001b[1;33m,\u001b[0m \u001b[0mMODEL\u001b[0m \u001b[1;33m=\u001b[0m \u001b[0mScheduleMachines\u001b[0m\u001b[1;33m(\u001b[0m\u001b[0mJOBS\u001b[0m\u001b[1;33m.\u001b[0m\u001b[0mcopy\u001b[0m\u001b[1;33m(\u001b[0m\u001b[1;33m)\u001b[0m\u001b[1;33m,\u001b[0m \u001b[0mMACHINES\u001b[0m\u001b[1;33m)\u001b[0m\u001b[1;33m\u001b[0m\u001b[1;33m\u001b[0m\u001b[0m\n\u001b[0m\u001b[0;32m     10\u001b[0m \u001b[1;31m#     SCHEDULE2 = Solve(JOBS.copy(), MACHINES)\u001b[0m\u001b[1;33m\u001b[0m\u001b[1;33m\u001b[0m\u001b[0m\n\u001b[0;32m     11\u001b[0m \u001b[1;33m\u001b[0m\u001b[0m\n",
      "\u001b[1;32m~\\AppData\\Local\\Temp/ipykernel_9284/2884570661.py\u001b[0m in \u001b[0;36mScheduleMachines\u001b[1;34m(JOBS, MACHINES)\u001b[0m\n\u001b[0;32m     66\u001b[0m             m.start[k] + JOBS[k]['duration'] <= m.start[j] + BigM*((1-m.y[j,k]) + (1-m.z[j,mach]) + (1-m.z[k,mach])))\n\u001b[0;32m     67\u001b[0m \u001b[1;33m\u001b[0m\u001b[0m\n\u001b[1;32m---> 68\u001b[1;33m     \u001b[0mSolverFactory\u001b[0m\u001b[1;33m(\u001b[0m\u001b[1;34m\"bonmin\"\u001b[0m\u001b[1;33m)\u001b[0m\u001b[1;33m.\u001b[0m\u001b[0msolve\u001b[0m\u001b[1;33m(\u001b[0m\u001b[0mm\u001b[0m\u001b[1;33m)\u001b[0m\u001b[1;33m\u001b[0m\u001b[1;33m\u001b[0m\u001b[0m\n\u001b[0m\u001b[0;32m     69\u001b[0m \u001b[1;33m\u001b[0m\u001b[0m\n\u001b[0;32m     70\u001b[0m     \u001b[0mSCHEDULE\u001b[0m \u001b[1;33m=\u001b[0m \u001b[1;33m{\u001b[0m\u001b[1;33m}\u001b[0m\u001b[1;33m\u001b[0m\u001b[1;33m\u001b[0m\u001b[0m\n",
      "\u001b[1;32m~\\AppData\\Local\\Programs\\Python\\Python310\\lib\\site-packages\\pyomo\\opt\\base\\solvers.py\u001b[0m in \u001b[0;36msolve\u001b[1;34m(self, *args, **kwds)\u001b[0m\n\u001b[0;32m    100\u001b[0m     \u001b[1;32mdef\u001b[0m \u001b[0msolve\u001b[0m\u001b[1;33m(\u001b[0m\u001b[0mself\u001b[0m\u001b[1;33m,\u001b[0m \u001b[1;33m*\u001b[0m\u001b[0margs\u001b[0m\u001b[1;33m,\u001b[0m \u001b[1;33m**\u001b[0m\u001b[0mkwds\u001b[0m\u001b[1;33m)\u001b[0m\u001b[1;33m:\u001b[0m\u001b[1;33m\u001b[0m\u001b[1;33m\u001b[0m\u001b[0m\n\u001b[0;32m    101\u001b[0m         \u001b[1;34m\"\"\"Perform optimization and return an SolverResults object.\"\"\"\u001b[0m\u001b[1;33m\u001b[0m\u001b[1;33m\u001b[0m\u001b[0m\n\u001b[1;32m--> 102\u001b[1;33m         \u001b[0mself\u001b[0m\u001b[1;33m.\u001b[0m\u001b[0m_solver_error\u001b[0m\u001b[1;33m(\u001b[0m\u001b[1;34m'solve'\u001b[0m\u001b[1;33m)\u001b[0m\u001b[1;33m\u001b[0m\u001b[1;33m\u001b[0m\u001b[0m\n\u001b[0m\u001b[0;32m    103\u001b[0m \u001b[1;33m\u001b[0m\u001b[0m\n\u001b[0;32m    104\u001b[0m     \u001b[1;32mdef\u001b[0m \u001b[0mreset\u001b[0m\u001b[1;33m(\u001b[0m\u001b[0mself\u001b[0m\u001b[1;33m)\u001b[0m\u001b[1;33m:\u001b[0m\u001b[1;33m\u001b[0m\u001b[1;33m\u001b[0m\u001b[0m\n",
      "\u001b[1;32m~\\AppData\\Local\\Programs\\Python\\Python310\\lib\\site-packages\\pyomo\\opt\\base\\solvers.py\u001b[0m in \u001b[0;36m_solver_error\u001b[1;34m(self, method_name)\u001b[0m\n\u001b[0;32m    117\u001b[0m \u001b[1;33m\u001b[0m\u001b[0m\n\u001b[0;32m    118\u001b[0m     \u001b[1;32mdef\u001b[0m \u001b[0m_solver_error\u001b[0m\u001b[1;33m(\u001b[0m\u001b[0mself\u001b[0m\u001b[1;33m,\u001b[0m \u001b[0mmethod_name\u001b[0m\u001b[1;33m)\u001b[0m\u001b[1;33m:\u001b[0m\u001b[1;33m\u001b[0m\u001b[1;33m\u001b[0m\u001b[0m\n\u001b[1;32m--> 119\u001b[1;33m         raise RuntimeError(\n\u001b[0m\u001b[0;32m    120\u001b[0m             \"\"\"Attempting to use an unavailable solver.\n\u001b[0;32m    121\u001b[0m \u001b[1;33m\u001b[0m\u001b[0m\n",
      "\u001b[1;31mRuntimeError\u001b[0m: Attempting to use an unavailable solver.\n\nThe SolverFactory was unable to create the solver \"bonmin\"\nand returned an UnknownSolver object.  This error is raised at the point\nwhere the UnknownSolver object was used as if it were valid (by calling\nmethod \"solve\").\n\nThe original solver was created with the following parameters:\n\texecutable: bonmin\n\ttype: bonmin\n\t_args: ()\n\toptions: {}"
     ]
    }
   ],
   "source": [
    "# WriteJson(script.create_task(6, 3, 8, 0, 7))\n",
    "Test(\"task1.json\")"
   ]
  },
  {
   "cell_type": "code",
   "execution_count": null,
   "id": "939dc326",
   "metadata": {},
   "outputs": [],
   "source": []
  }
 ],
 "metadata": {
  "kernelspec": {
   "display_name": "Python 3 (ipykernel)",
   "language": "python",
   "name": "python3"
  },
  "language_info": {
   "codemirror_mode": {
    "name": "ipython",
    "version": 3
   },
   "file_extension": ".py",
   "mimetype": "text/x-python",
   "name": "python",
   "nbconvert_exporter": "python",
   "pygments_lexer": "ipython3",
   "version": "3.10.8"
  }
 },
 "nbformat": 4,
 "nbformat_minor": 5
}
